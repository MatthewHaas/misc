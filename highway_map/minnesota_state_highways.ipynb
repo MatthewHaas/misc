{
 "cells": [
  {
   "cell_type": "code",
   "execution_count": null,
   "metadata": {},
   "outputs": [],
   "source": [
    "# The purpose of this code is to develop a GIF with a map of Minnesota (MN) successively adding MN state highways-just for fun"
   ]
  },
  {
   "cell_type": "code",
   "execution_count": 1,
   "metadata": {},
   "outputs": [],
   "source": [
    "import pandas as pd\n",
    "import geopandas as gpd\n",
    "import descartes\n",
    "import matplotlib.pyplot as plt\n",
    "import numpy as np\n",
    "import shapely.geometry\n",
    "import imageio # to make the GIF file\n",
    "import os\n",
    "from progressbar import ProgressBar\n",
    "import warnings"
   ]
  },
  {
   "cell_type": "code",
   "execution_count": 2,
   "metadata": {},
   "outputs": [],
   "source": [
    "roads = 'STREETS_LOAD.shp'"
   ]
  },
  {
   "cell_type": "code",
   "execution_count": 3,
   "metadata": {},
   "outputs": [],
   "source": [
    "states = '/Users/matthewwilliamhaas/Documents/shapefile_data_sources/cb_2018_us_state_20m/cb_2018_us_state_20m.shp'\n",
    "map_states = gpd.read_file(states)"
   ]
  },
  {
   "cell_type": "code",
   "execution_count": 4,
   "metadata": {},
   "outputs": [
    {
     "data": {
      "text/html": [
       "<div>\n",
       "<style scoped>\n",
       "    .dataframe tbody tr th:only-of-type {\n",
       "        vertical-align: middle;\n",
       "    }\n",
       "\n",
       "    .dataframe tbody tr th {\n",
       "        vertical-align: top;\n",
       "    }\n",
       "\n",
       "    .dataframe thead th {\n",
       "        text-align: right;\n",
       "    }\n",
       "</style>\n",
       "<table border=\"1\" class=\"dataframe\">\n",
       "  <thead>\n",
       "    <tr style=\"text-align: right;\">\n",
       "      <th></th>\n",
       "      <th>STATEFP</th>\n",
       "      <th>STATENS</th>\n",
       "      <th>AFFGEOID</th>\n",
       "      <th>GEOID</th>\n",
       "      <th>STUSPS</th>\n",
       "      <th>NAME</th>\n",
       "      <th>LSAD</th>\n",
       "      <th>ALAND</th>\n",
       "      <th>AWATER</th>\n",
       "      <th>geometry</th>\n",
       "    </tr>\n",
       "  </thead>\n",
       "  <tbody>\n",
       "    <tr>\n",
       "      <th>28</th>\n",
       "      <td>27</td>\n",
       "      <td>00662849</td>\n",
       "      <td>0400000US27</td>\n",
       "      <td>27</td>\n",
       "      <td>MN</td>\n",
       "      <td>Minnesota</td>\n",
       "      <td>00</td>\n",
       "      <td>206228939448</td>\n",
       "      <td>18945217189</td>\n",
       "      <td>POLYGON ((-97.22904 49.00069, -96.93096 48.999...</td>\n",
       "    </tr>\n",
       "  </tbody>\n",
       "</table>\n",
       "</div>"
      ],
      "text/plain": [
       "   STATEFP   STATENS     AFFGEOID GEOID STUSPS       NAME LSAD         ALAND  \\\n",
       "28      27  00662849  0400000US27    27     MN  Minnesota   00  206228939448   \n",
       "\n",
       "         AWATER                                           geometry  \n",
       "28  18945217189  POLYGON ((-97.22904 49.00069, -96.93096 48.999...  "
      ]
     },
     "execution_count": 4,
     "metadata": {},
     "output_type": "execute_result"
    }
   ],
   "source": [
    "map_states[map_states.STATEFP == '27']"
   ]
  },
  {
   "cell_type": "code",
   "execution_count": 5,
   "metadata": {},
   "outputs": [],
   "source": [
    "MN = map_states[(map_states.STATEFP == '27')]\n",
    "MN = MN.to_crs({'init' : 'epsg:26915'})"
   ]
  },
  {
   "cell_type": "code",
   "execution_count": 6,
   "metadata": {},
   "outputs": [],
   "source": [
    "# read in data\n",
    "road_data = gpd.read_file(roads)"
   ]
  },
  {
   "cell_type": "code",
   "execution_count": 25,
   "metadata": {},
   "outputs": [],
   "source": [
    "# Convert code for making one-off highway maps to a function to do in a high-throughput manner.\n",
    "# Needed arguments: 1) path to image (highway sign), 2) indicator of current highway to plot geodata, and 3) output filename\n",
    "\n",
    "# Initiate empty list to hold highways that have already been plotted\n",
    "#alreadyPlotted = [] # Keep outside function definitation so it doesn't get cleared every time the function is called\n",
    "#geoDataAll = gpd.GeoSeries(crs='epsg:26915') # make empty geopandas geoseries dataframe\n",
    "\n",
    "def MakeHwyMap (imagefile, currentHwy, outfile):\n",
    "    global geoDataAll\n",
    "    data = road_data.STREET_NAM == currentHwy\n",
    "    geoData = road_data[(data)].geometry\n",
    "    im = plt.imread(imagefile)\n",
    "    fig, ax = plt.subplots(1, figsize = (20,15))\n",
    "    MN.plot(color = 'white', linewidth = 1.0, ax = ax, edgecolor = 'black')\n",
    "    plt.title('Minnesota state (\"trunk\") highway system', fontsize = 60)\n",
    "    plt.annotate('Source: U.S. Census Bureau (map); Minnesota Department of Transportation (roads)', (0,0), (0,-10), xycoords = 'axes fraction', textcoords = 'offset points', va = 'top', ha = 'left', fontsize = 20)\n",
    "    #if currentHwy in alreadyPlotted:\n",
    "    geoDataAll.plot(color ='grey', linewidth = 3.0, ax = ax, edgecolor = 'black')\n",
    "    #else:\n",
    "    geoData.plot(color ='red', linewidth = 3.0, ax = ax, edgecolor = 'black')\n",
    "    #alreadyPlotted.append(currentHwy)\n",
    "    geoDataAll = geoDataAll.append(geoData)\n",
    "    newax = fig.add_axes([0.8, 0.5, 0.2, 0.3], anchor = 'NE', zorder = 1)\n",
    "    newax.imshow(im)\n",
    "    ax.axis('off') # turn off the axis\n",
    "    newax.axis('off')\n",
    "    plt.savefig(outfile)\n",
    "    plt.close('all')"
   ]
  },
  {
   "cell_type": "code",
   "execution_count": 35,
   "metadata": {},
   "outputs": [
    {
     "name": "stderr",
     "output_type": "stream",
     "text": [
      "100% |########################################################################|\n"
     ]
    }
   ],
   "source": [
    "infile = open('minnesota_highway_list.csv', 'r', encoding='utf-8-sig') # open file\n",
    "highways = infile.readlines()  # begin reading data\n",
    "\n",
    "out_PNG_list = [] # make empty list to hold names of output files to make GIF at end\n",
    "#alreadyPlotted = []\n",
    "geoDataAll = gpd.GeoSeries(crs='epsg:26915') # make empty geopandas geoseries dataframe\n",
    "\n",
    "pbar = ProgressBar()\n",
    "\n",
    "# Run the MakeHwyMap function for each line in the file (each line represents a highway)\n",
    "for line in pbar(highways):\n",
    "    line = line.rstrip()\n",
    "    line = line.split(',')\n",
    "    warnings.filterwarnings('ignore') # silence warnings\n",
    "    MakeHwyMap(imagefile = line[0], currentHwy = line[1], outfile = line[2])\n",
    "    out_PNG_list.append(line[2])"
   ]
  },
  {
   "cell_type": "code",
   "execution_count": 36,
   "metadata": {},
   "outputs": [],
   "source": [
    "# make the GIF file\n",
    "with imageio.get_writer('mn_state_highways.gif', mode = 'I', duration = 1) as writer:\n",
    "    for filename in out_PNG_list:\n",
    "        image = imageio.imread(filename)\n",
    "        writer.append_data(image)"
   ]
  },
  {
   "cell_type": "code",
   "execution_count": null,
   "metadata": {},
   "outputs": [],
   "source": []
  }
 ],
 "metadata": {
  "kernelspec": {
   "display_name": "Python 3",
   "language": "python",
   "name": "python3"
  },
  "language_info": {
   "codemirror_mode": {
    "name": "ipython",
    "version": 3
   },
   "file_extension": ".py",
   "mimetype": "text/x-python",
   "name": "python",
   "nbconvert_exporter": "python",
   "pygments_lexer": "ipython3",
   "version": "3.7.7"
  }
 },
 "nbformat": 4,
 "nbformat_minor": 4
}
